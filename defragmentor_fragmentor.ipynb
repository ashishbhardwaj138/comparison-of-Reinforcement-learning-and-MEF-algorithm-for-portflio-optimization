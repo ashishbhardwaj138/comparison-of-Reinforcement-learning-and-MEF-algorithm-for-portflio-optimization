{
 "cells": [
  {
   "cell_type": "code",
   "execution_count": 1,
   "id": "cc7f3a0c",
   "metadata": {},
   "outputs": [
    {
     "data": {
      "text/plain": [
       "(631587, 38)"
      ]
     },
     "execution_count": 1,
     "metadata": {},
     "output_type": "execute_result"
    }
   ],
   "source": [
    "import pandas as pd\n",
    "df=pd.read_csv(\"cleaned_preprocessed.csv\")\n",
    "df.shape"
   ]
  },
  {
   "cell_type": "code",
   "execution_count": 7,
   "id": "5c31effa",
   "metadata": {},
   "outputs": [],
   "source": [
    "#defragmentor\n",
    "for i in range(0,26,1):\n",
    "    df[i:i+25000].to_csv(\"cleaned_preprocessed\"+str(i)+\".csv\")"
   ]
  },
  {
   "cell_type": "code",
   "execution_count": 10,
   "id": "35e29466",
   "metadata": {},
   "outputs": [
    {
     "data": {
      "text/plain": [
       "(650000, 39)"
      ]
     },
     "execution_count": 10,
     "metadata": {},
     "output_type": "execute_result"
    }
   ],
   "source": [
    "#fragmentor\n",
    "df=pd.read_csv(\"cleaned_preprocessed\"+str(0)+\".csv\")\n",
    "for i in range(1,26,1):\n",
    "    df1=pd.read_csv(\"cleaned_preprocessed\"+str(i)+\".csv\")\n",
    "    df=pd.concat([df,df1],axis=0)\n",
    "df.shape"
   ]
  },
  {
   "cell_type": "code",
   "execution_count": null,
   "id": "f48567e7",
   "metadata": {},
   "outputs": [],
   "source": []
  }
 ],
 "metadata": {
  "kernelspec": {
   "display_name": "Python 3 (ipykernel)",
   "language": "python",
   "name": "python3"
  },
  "language_info": {
   "codemirror_mode": {
    "name": "ipython",
    "version": 3
   },
   "file_extension": ".py",
   "mimetype": "text/x-python",
   "name": "python",
   "nbconvert_exporter": "python",
   "pygments_lexer": "ipython3",
   "version": "3.9.12"
  }
 },
 "nbformat": 4,
 "nbformat_minor": 5
}
