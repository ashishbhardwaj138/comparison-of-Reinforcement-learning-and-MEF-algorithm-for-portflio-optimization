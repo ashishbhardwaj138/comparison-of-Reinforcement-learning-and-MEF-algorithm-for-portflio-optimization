{
 "cells": [
  {
   "cell_type": "code",
   "execution_count": null,
   "id": "6783dea6",
   "metadata": {},
   "outputs": [],
   "source": [
    "class MarkowitzPolicy:\n",
    "    def __init__(self):\n",
    "        self.portfolios = self.init_portfolios()\n",
    "\n",
    "    def get_action(self,memory):\n",
    "        df1 = memory.copy().reset_index(drop=True).tail(30)\n",
    "        for i,row in df1.iterrows():\n",
    "            for i2,row2 in self.portfolios.iterrows():\n",
    "                df1.loc[i,f\"p{i2} value\"] = np.dot(row,row2)\n",
    "        for i in range(NPORTS):\n",
    "            df1[f\"p{i} return\"] = df1[f\"p{i} value\"].diff()\n",
    "        \n",
    "        df2 = df1.agg([\"mean\",\"std\"])[[f\"p{i} return\" for i in range(NPORTS)]].T\n",
    "        df2.loc[df2[\"std\"].isnull(),\"std\"]=1e-8\n",
    "        df2[\"sharpe\"] = df2[\"mean\"]/df2[\"std\"]\n",
    "        \n",
    "        \n",
    "        max_ = df2.sort_values(\"std\").head(df2.shape[0]//4)[\"mean\"].max()\n",
    "        \n",
    "        max_ = df2[df2[\"mean\"]==max_].index[0].strip(\"p\").strip(\" return\")\n",
    "        max_ = int(max_)\n",
    "        action = self.portfolios.loc[max_,:].values/100\n",
    "        action = np.hstack((0,action))\n",
    "        return action\n",
    "\n",
    "    def init_portfolios(self):\n",
    "        if FIXED_PORTFOLIO:\n",
    "            ps = pd.read_csv(\"portfolios_sample.csv\")\n",
    "        else:\n",
    "            portfolios = []\n",
    "            for i in range(NPORTS):\n",
    "                num1 = np.random.randint(100)\n",
    "                num2 = np.random.randint(100-num1)\n",
    "                num3 = 100-num1-num2\n",
    "                portfolios.append([num1,num2,num3])\n",
    "\n",
    "            ps = pd.DataFrame(portfolios,columns=COINS)\n",
    "            # ps.to_csv(\"portfolios_sample.csv\",index=None)\n",
    "        return ps    "
   ]
  }
 ],
 "metadata": {
  "kernelspec": {
   "display_name": "Python 3 (ipykernel)",
   "language": "python",
   "name": "python3"
  },
  "language_info": {
   "codemirror_mode": {
    "name": "ipython",
    "version": 3
   },
   "file_extension": ".py",
   "mimetype": "text/x-python",
   "name": "python",
   "nbconvert_exporter": "python",
   "pygments_lexer": "ipython3",
   "version": "3.9.12"
  }
 },
 "nbformat": 4,
 "nbformat_minor": 5
}
