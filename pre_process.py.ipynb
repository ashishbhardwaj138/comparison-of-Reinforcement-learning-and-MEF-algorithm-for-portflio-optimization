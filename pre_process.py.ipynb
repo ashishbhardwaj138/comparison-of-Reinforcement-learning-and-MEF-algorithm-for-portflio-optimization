{
 "cells": [
  {
   "cell_type": "code",
   "execution_count": null,
   "id": "541fb9f2",
   "metadata": {},
   "outputs": [],
   "source": [
    "import pandas as pd\n",
    "FILE = \"cleaned.csv\"\n",
    "COINS = [\"DASH\",\"LTC\",\"STR\"]\n",
    "COLS = ['high', 'low', 'open', 'close', 'volume', 'quoteVolume','weightedAverage']\n",
    "SCOLS = [\"vh\",\"vl\",\"vc\",\"open_s\",\"volume_s\",\"quoteVolume_s\",\"weightedAverage_s\"]\n",
    "OBS_COLS = ['vh', 'vl', 'vc', 'open_s', 'volume_s', 'quoteVolume_s', 'weightedAverage_s', 'vh_roll_7', 'vh_roll_14', 'vh_roll_30', 'vl_roll_7', 'vl_roll_14', 'vl_roll_30', 'vc_roll_7', 'vc_roll_14', 'vc_roll_30', 'open_s_roll_7', 'open_s_roll_14', 'open_s_roll_30', 'volume_s_roll_7', 'volume_s_roll_14', 'volume_s_roll_30', 'quoteVolume_s_roll_7', 'quoteVolume_s_roll_14', 'quoteVolume_s_roll_30', 'weightedAverage_s_roll_7', 'weightedAverage_s_roll_14', 'weightedAverage_s_roll_30']\n",
    "EPISODE_LENGTH = 500\n",
    "\n",
    "\n",
    "df = pd.read_csv(FILE)\n",
    "\n",
    "        \n",
    "df[\"date\"] = df[\"date\"].apply(lambda x: pd.Timestamp(x, unit='s', tz='US/Pacific'))\n",
    "df = df[df[\"coin\"].isin(COINS)].sort_values(\"date\")\n",
    "df[\"vh\"] = df[\"high\"]/df[\"open\"]\n",
    "df[\"vl\"] = df[\"low\"]/df[\"open\"]\n",
    "df[\"vc\"] = df[\"close\"]/df[\"open\"]\n",
    "df[\"open_s\"] = df.groupby(\"coin\")[\"open\"].apply(lambda x: x - x.shift(1))\n",
    "df[\"volume_s\"] = df.groupby(\"coin\")[\"volume\"].apply(lambda x: x - x.shift(1))\n",
    "df[\"quoteVolume_s\"] = df.groupby(\"coin\")[\"quoteVolume\"].apply(lambda x: x - x.shift(1))\n",
    "df[\"weightedAverage_s\"] = df.groupby(\"coin\")[\"weightedAverage\"].apply(lambda x: x - x.shift(1))\n",
    "\n",
    "new_cols = []\n",
    "\n",
    "for col in SCOLS:\n",
    "    print(col)\n",
    "    df[col+\"_roll_7\"] = df.groupby(\"coin\")[col].apply(lambda x: x.rolling(7).mean().bfill())\n",
    "    new_cols.append(col+\"_roll_7\")\n",
    "    df[col+\"_roll_14\"] = df.groupby(\"coin\")[col].apply(lambda x: x.rolling(14).mean().bfill())\n",
    "    new_cols.append(col+\"_roll_14\")\n",
    "    df[col+\"_roll_30\"] = df.groupby(\"coin\")[col].apply(lambda x: x.rolling(30).mean().bfill())\n",
    "    new_cols.append(col+\"_roll_30\")\n",
    "    \n",
    "SCOLS.extend(new_cols)\n",
    "print(SCOLS)\n",
    "\n",
    "df.to_csv(\"cleaned_preprocessed.csv\")"
   ]
  }
 ],
 "metadata": {
  "kernelspec": {
   "display_name": "Python 3 (ipykernel)",
   "language": "python",
   "name": "python3"
  },
  "language_info": {
   "codemirror_mode": {
    "name": "ipython",
    "version": 3
   },
   "file_extension": ".py",
   "mimetype": "text/x-python",
   "name": "python",
   "nbconvert_exporter": "python",
   "pygments_lexer": "ipython3",
   "version": "3.9.12"
  }
 },
 "nbformat": 4,
 "nbformat_minor": 5
}
